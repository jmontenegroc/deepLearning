{
  "nbformat": 4,
  "nbformat_minor": 0,
  "metadata": {
    "colab": {
      "provenance": [],
      "gpuType": "T4"
    },
    "kernelspec": {
      "name": "python3",
      "display_name": "Python 3"
    },
    "language_info": {
      "name": "python"
    },
    "accelerator": "GPU"
  },
  "cells": [
    {
      "cell_type": "markdown",
      "source": [
        "<a href=\"https://colab.research.google.com/github/fcastellanosp/MINE-4210_202420_ADL/blob/main/Talleres/Taller%205/MINE4210_ADL2024_Taller5.ipynb\" target=\"_parent\"><img src=\"https://colab.research.google.com/assets/colab-badge.svg\" alt=\"Open In Colab\"/></a>"
      ],
      "metadata": {
        "id": "14quiOGQcZvC"
      }
    },
    {
      "cell_type": "markdown",
      "source": [
        "![Logo ADL](https://github.com/fcastellanosp/MINE-4210_202420_ADL/blob/main/Laboratorios/logo_adl.png?raw=true)"
      ],
      "metadata": {
        "id": "K3r7qAgDcWcz"
      }
    },
    {
      "cell_type": "markdown",
      "source": [
        "# **Taller 5**\n",
        "\n",
        "- **Integrante 1:**\n",
        "- **Integrante 2:**"
      ],
      "metadata": {
        "id": "5ojYaeubc6-5"
      }
    },
    {
      "cell_type": "markdown",
      "source": [
        "La generación de imágenes ha emergido como una de las tendencias más significativas impulsadas por las Redes Neuronales Generativas (GAN). Este enfoque nos brinda la capacidad de abstraer una población específica y generar nuevas muestras de la misma. En este taller, exploraremos la aplicación de una red GAN (Generative Adversarial Network), una arquitectura de red neuronal utilizada en el aprendizaje no supervisado para generar datos novedosos y realistas.\n",
        "\n",
        "La universidad ha sido contactada por parte de las veterinarias para generar imágenes basadas en una colección de información de gatos y perros. El objetivo es examinar el comportamiento de este conjunto de datos.\n",
        "\n",
        "Toda la información ha sido consolidada en el siguiente [enlace](https://www.kaggle.com/datasets/marquis03/cats-and-dogs)."
      ],
      "metadata": {
        "id": "vjTi178bc8eY"
      }
    },
    {
      "cell_type": "markdown",
      "source": [
        "# **Preguntas:**\n",
        "\n",
        "1. Realice el proceso de exploración de los datos..\n",
        "\n",
        "2. Utilice las imágenes correspondientes para entrenar dos redes GAN. La primera red será la versión base.\n",
        "\n",
        "3. El segundo modelo será una variante con funcionamiento condicional para la clasificación de perros y de gatos. Puedes incluir ajustes en las capas, neuronas o tipos de capas con el objetivo de mejorar los resultados.\n",
        "\n",
        "4. Realizar la búsqueda de hiperparámetros para ambos casos.\n",
        "\n",
        "5. Generar una tabla comparativa de los resultados obtenidos."
      ],
      "metadata": {
        "id": "Wc7LjhfHcQ67"
      }
    },
    {
      "cell_type": "markdown",
      "source": [
        "# **Notas Importantes:**\n",
        "- El proceso propuesto debe estar debidamente codificado y justificado en cada una de las decisiones tomadas.\n",
        "- La propuesta realizada es propia de cada grupo, no deben generarse procesos iguales con otros grupos de trabajo.\n",
        "- No es necesario repetir el código implementado en la primera versión, debes trabajar en las mejoras/optimizaciones específicamente.\n",
        "- El archivo a presentar debe ser en formato .ipynb o HTML ya ejecutado. Celda que no esté ejecutada no se podrá evaluar.\n",
        "- El nombre del archivo debe ser `Taller_5_{Apellido_Nombre}_{Apellido_Nombre}` de cada integrante respectivamente."
      ],
      "metadata": {
        "id": "bKrrPdPKdHPZ"
      }
    },
    {
      "cell_type": "code",
      "source": [
        "!pip install kaggle -q\n",
        "!pip install keras-tuner -q\n"
      ],
      "metadata": {
        "id": "MX1glmYt5D0p",
        "outputId": "94cb4cde-2b11-4d1d-fe95-1447854ed945",
        "colab": {
          "base_uri": "https://localhost:8080/"
        }
      },
      "execution_count": 1,
      "outputs": [
        {
          "output_type": "stream",
          "name": "stdout",
          "text": [
            "Requirement already satisfied: kaggle in /usr/local/lib/python3.10/dist-packages (1.6.17)\n",
            "Requirement already satisfied: six>=1.10 in /usr/local/lib/python3.10/dist-packages (from kaggle) (1.16.0)\n",
            "Requirement already satisfied: certifi>=2023.7.22 in /usr/local/lib/python3.10/dist-packages (from kaggle) (2024.8.30)\n",
            "Requirement already satisfied: python-dateutil in /usr/local/lib/python3.10/dist-packages (from kaggle) (2.8.2)\n",
            "Requirement already satisfied: requests in /usr/local/lib/python3.10/dist-packages (from kaggle) (2.32.3)\n",
            "Requirement already satisfied: tqdm in /usr/local/lib/python3.10/dist-packages (from kaggle) (4.66.6)\n",
            "Requirement already satisfied: python-slugify in /usr/local/lib/python3.10/dist-packages (from kaggle) (8.0.4)\n",
            "Requirement already satisfied: urllib3 in /usr/local/lib/python3.10/dist-packages (from kaggle) (2.2.3)\n",
            "Requirement already satisfied: bleach in /usr/local/lib/python3.10/dist-packages (from kaggle) (6.2.0)\n",
            "Requirement already satisfied: webencodings in /usr/local/lib/python3.10/dist-packages (from bleach->kaggle) (0.5.1)\n",
            "Requirement already satisfied: text-unidecode>=1.3 in /usr/local/lib/python3.10/dist-packages (from python-slugify->kaggle) (1.3)\n",
            "Requirement already satisfied: charset-normalizer<4,>=2 in /usr/local/lib/python3.10/dist-packages (from requests->kaggle) (3.4.0)\n",
            "Requirement already satisfied: idna<4,>=2.5 in /usr/local/lib/python3.10/dist-packages (from requests->kaggle) (3.10)\n",
            "Collecting keras-tuner\n",
            "  Downloading keras_tuner-1.4.7-py3-none-any.whl.metadata (5.4 kB)\n",
            "Requirement already satisfied: keras in /usr/local/lib/python3.10/dist-packages (from keras-tuner) (3.5.0)\n",
            "Requirement already satisfied: packaging in /usr/local/lib/python3.10/dist-packages (from keras-tuner) (24.2)\n",
            "Requirement already satisfied: requests in /usr/local/lib/python3.10/dist-packages (from keras-tuner) (2.32.3)\n",
            "Collecting kt-legacy (from keras-tuner)\n",
            "  Downloading kt_legacy-1.0.5-py3-none-any.whl.metadata (221 bytes)\n",
            "Requirement already satisfied: absl-py in /usr/local/lib/python3.10/dist-packages (from keras->keras-tuner) (1.4.0)\n",
            "Requirement already satisfied: numpy in /usr/local/lib/python3.10/dist-packages (from keras->keras-tuner) (1.26.4)\n",
            "Requirement already satisfied: rich in /usr/local/lib/python3.10/dist-packages (from keras->keras-tuner) (13.9.4)\n",
            "Requirement already satisfied: namex in /usr/local/lib/python3.10/dist-packages (from keras->keras-tuner) (0.0.8)\n",
            "Requirement already satisfied: h5py in /usr/local/lib/python3.10/dist-packages (from keras->keras-tuner) (3.12.1)\n",
            "Requirement already satisfied: optree in /usr/local/lib/python3.10/dist-packages (from keras->keras-tuner) (0.13.1)\n",
            "Requirement already satisfied: ml-dtypes in /usr/local/lib/python3.10/dist-packages (from keras->keras-tuner) (0.4.1)\n",
            "Requirement already satisfied: charset-normalizer<4,>=2 in /usr/local/lib/python3.10/dist-packages (from requests->keras-tuner) (3.4.0)\n",
            "Requirement already satisfied: idna<4,>=2.5 in /usr/local/lib/python3.10/dist-packages (from requests->keras-tuner) (3.10)\n",
            "Requirement already satisfied: urllib3<3,>=1.21.1 in /usr/local/lib/python3.10/dist-packages (from requests->keras-tuner) (2.2.3)\n",
            "Requirement already satisfied: certifi>=2017.4.17 in /usr/local/lib/python3.10/dist-packages (from requests->keras-tuner) (2024.8.30)\n",
            "Requirement already satisfied: typing-extensions>=4.5.0 in /usr/local/lib/python3.10/dist-packages (from optree->keras->keras-tuner) (4.12.2)\n",
            "Requirement already satisfied: markdown-it-py>=2.2.0 in /usr/local/lib/python3.10/dist-packages (from rich->keras->keras-tuner) (3.0.0)\n",
            "Requirement already satisfied: pygments<3.0.0,>=2.13.0 in /usr/local/lib/python3.10/dist-packages (from rich->keras->keras-tuner) (2.18.0)\n",
            "Requirement already satisfied: mdurl~=0.1 in /usr/local/lib/python3.10/dist-packages (from markdown-it-py>=2.2.0->rich->keras->keras-tuner) (0.1.2)\n",
            "Downloading keras_tuner-1.4.7-py3-none-any.whl (129 kB)\n",
            "\u001b[2K   \u001b[90m━━━━━━━━━━━━━━━━━━━━━━━━━━━━━━━━━━━━━━━━\u001b[0m \u001b[32m129.1/129.1 kB\u001b[0m \u001b[31m2.5 MB/s\u001b[0m eta \u001b[36m0:00:00\u001b[0m\n",
            "\u001b[?25hDownloading kt_legacy-1.0.5-py3-none-any.whl (9.6 kB)\n",
            "Installing collected packages: kt-legacy, keras-tuner\n",
            "Successfully installed keras-tuner-1.4.7 kt-legacy-1.0.5\n"
          ]
        }
      ]
    },
    {
      "cell_type": "code",
      "source": [
        "\n",
        "import numpy as np\n",
        "import pandas as pd\n",
        "\n",
        "import matplotlib.pyplot as plt\n",
        "%matplotlib inline\n",
        "\n",
        "#Librerías de Keras y Tensor Flow\n",
        "import keras_tuner as kt\n",
        "import keras.layers as layers\n",
        "import tensorflow as tf\n",
        "import tensorflow.keras as keras\n",
        "\n",
        "from tensorflow.keras.layers import RandomRotation, RandomFlip, Dropout\n",
        "from tensorflow.keras.layers import Dense, Reshape, Conv2DTranspose, BatchNormalization, LeakyReLU ######\n",
        "from tensorflow.keras.layers import Conv2D, Flatten ######\n",
        "from tensorflow.keras import Sequential\n",
        "\n",
        "#Librerías de Scikit Learn\n",
        "import sklearn\n",
        "from sklearn.metrics import classification_report, confusion_matrix\n",
        "from sklearn.model_selection import train_test_split\n",
        "\n",
        "#Verificamos las versiones de las librerías\n",
        "print(f\"La versión de sklearn es: {sklearn.__version__}\")\n",
        "print('Tensorflow version:', tf.__version__)"
      ],
      "metadata": {
        "id": "jqGDuKe05Tkc",
        "outputId": "ba156631-d960-490c-aab3-9c8077da0185",
        "colab": {
          "base_uri": "https://localhost:8080/"
        }
      },
      "execution_count": 2,
      "outputs": [
        {
          "output_type": "stream",
          "name": "stdout",
          "text": [
            "La versión de sklearn es: 1.5.2\n",
            "Tensorflow version: 2.17.1\n"
          ]
        }
      ]
    },
    {
      "cell_type": "code",
      "source": [
        "\n",
        "#Porcentaje para validación y test\n",
        "test_alpha = 0.2\n",
        "#random_state o semilla para la reproducibilidad\n",
        "my_seed = 19\n",
        "tf.random.set_seed(my_seed)\n",
        "np.random.seed(my_seed)\n",
        "\n",
        "batch_size = 24\n",
        "img_height = 128\n",
        "img_width = 128\n",
        "band_count = 3\n",
        "image_size = [img_height, img_width]"
      ],
      "metadata": {
        "id": "TYNSvVJ35az8"
      },
      "execution_count": null,
      "outputs": []
    }
  ]
}